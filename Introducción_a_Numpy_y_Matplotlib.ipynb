{
  "cells": [
    {
      "cell_type": "markdown",
      "metadata": {
        "id": "view-in-github",
        "colab_type": "text"
      },
      "source": [
        "<a href=\"https://colab.research.google.com/github/FranciscoAtondo/3-Aprendizaje/blob/main/Introducci%C3%B3n_a_Numpy_y_Matplotlib.ipynb\" target=\"_parent\"><img src=\"https://colab.research.google.com/assets/colab-badge.svg\" alt=\"Open In Colab\"/></a>"
      ]
    },
    {
      "cell_type": "markdown",
      "metadata": {
        "id": "frWQrOuEu5bz"
      },
      "source": [
        "# Introducción a Numpy y Matplotlib\n",
        "\n",
        "**Curso Inteligencia Artificial 2025-1**"
      ]
    },
    {
      "cell_type": "markdown",
      "metadata": {
        "id": "KDfRuLlwu5b0"
      },
      "source": [
        "## Inicialización de una libreta"
      ]
    },
    {
      "cell_type": "markdown",
      "metadata": {
        "id": "bEa-pBU4u5b1"
      },
      "source": [
        "Vamos a introducir Numpy y Matplotlib, librerías para matemáticas y graficación, desde una libreta tipo *Jupyter*. Esta la puedes descargar y ejecutar en tu propia computadora, usando un editor de texto como VSCode, o inicializando Jupyter en linea de comando. Una opción muy popular es ejecutar la libreta en [Colaboratory](https://colab.google) de Google (que te permite ejecutar libretas en linea si cuantas con una cuenta de *Google*). Para ejecutar esta libreta en particular, lo puedes hacer [desde este enlace](https://colab.research.google.com/github/IA-UNISON/3-Aprendizaje/blob/main/Introducción%20a%20Numpy%20y%20Matplotlib.ipynb).\n",
        "\n",
        "Para inicializar la libreta y poderla utilizar con `numpy` y `matplotlib`, y asegurarse que los gráficos se presenten donde deben de estar es necesario ejecutar las siguientes instrucciones:"
      ]
    },
    {
      "cell_type": "code",
      "execution_count": 2,
      "metadata": {
        "id": "3shHq-Mmu5b1"
      },
      "outputs": [],
      "source": [
        "import numpy as np\n",
        "import matplotlib.pyplot as plt\n",
        "import random\n",
        "\n",
        "# Para insertar las gráficas dentro del entorno\n",
        "%matplotlib inline"
      ]
    },
    {
      "cell_type": "markdown",
      "metadata": {
        "id": "KbUaDcUlu5b1"
      },
      "source": [
        "Recuerda que hay que ejecutar cada celda (cell) con *ctrl-enter* o con el simbolo de la flechita arriba de la libreta.\n",
        "\n",
        "La linea que empieza con `%` es un tipo de comando conocidos como *comandos mágicos*. En este comando le especificamos a la libreta que vamos a utilizar matplotlib para hacer gráficas y que queremos que las anexe dentro del documento. Existen muchos comandos mágicos, algunos muy útiles que vamos a ir viendo sobre la marcha. Para una explicacion completa está [esta libreta](http://nbviewer.ipython.org/github/ipython/ipython/blob/1.x/examples/notebooks/Cell%20Magics.ipynb).\n"
      ]
    },
    {
      "cell_type": "markdown",
      "metadata": {
        "id": "SzR1VJYNu5b2"
      },
      "source": [
        "En Jupyter existen varias funciones que se llaman *mágicas* las cuales empiezan siempre con %. La más común es `%matplotlib inline` para realizar gráficas dentro de la libreta y no que las genere en forma independiente. Otras muy usadas son %time Para calcular el tiempo que tarda en ejecitarse una celda, y %prun para hacer profile de la celda.\n",
        "\n",
        "Por ejemplo"
      ]
    },
    {
      "cell_type": "code",
      "execution_count": null,
      "metadata": {
        "id": "W9PPGE9Wu5b2"
      },
      "outputs": [],
      "source": [
        "%time sum([x for x in range(100000)])"
      ]
    },
    {
      "cell_type": "code",
      "execution_count": null,
      "metadata": {
        "id": "olPKszA0u5b2"
      },
      "outputs": [],
      "source": [
        "%prun sum([x for x in range(100000)])"
      ]
    },
    {
      "cell_type": "markdown",
      "metadata": {
        "id": "G-xDfPKOu5b2"
      },
      "source": [
        "En general los comandos mágicos se pueden consultar con otro comando mágico"
      ]
    },
    {
      "cell_type": "code",
      "execution_count": null,
      "metadata": {
        "collapsed": true,
        "id": "J_fAn5wfu5b3"
      },
      "outputs": [],
      "source": [
        "%quickref"
      ]
    },
    {
      "cell_type": "markdown",
      "metadata": {
        "id": "4_wRjFYKu5b3"
      },
      "source": [
        "## Inicializando variables en Numpy"
      ]
    },
    {
      "cell_type": "markdown",
      "metadata": {
        "id": "F7BXwj-6u5b3"
      },
      "source": [
        "Numpy agrega a python básicamente dos nuevos tipos o clases, de los cuales solo nos vamos a interesar por los arreglos multidimensionales o `ndarray`. La manera más sencilla de crear un array (vector o matriz) es utilizando `array` como:"
      ]
    },
    {
      "cell_type": "code",
      "execution_count": null,
      "metadata": {
        "colab": {
          "base_uri": "https://localhost:8080/"
        },
        "id": "eL-cK4CLu5b3",
        "outputId": "1432750d-37cf-4242-bd8b-0ba5fbcd0033"
      },
      "outputs": [
        {
          "output_type": "stream",
          "name": "stdout",
          "text": [
            "vector a = [ 1.      3.1416 40.      0.      2.      5.    ]\n",
            "matriz A = [[1 2]\n",
            " [3 4]\n",
            " [5 6]]\n"
          ]
        }
      ],
      "source": [
        "# Crea un objeto vector\n",
        "vector_a = np.array([1, 3.1416, 40, 0, 2, 5])\n",
        "print(f\"vector a = {vector_a}\")\n",
        "\n",
        "# Crea una matriz\n",
        "matriz_A = np.array([[1, 2], [3, 4], [5, 6]])\n",
        "print(f\"matriz A = {matriz_A}\")"
      ]
    },
    {
      "cell_type": "markdown",
      "metadata": {
        "id": "kc0CDsnDu5b4"
      },
      "source": [
        "Esta es la manera más directa pero no la única (y en muchos casos la mas usada) para crear nuevos vectores multidimensionales. Existen otras maneras de generar arreglos como son las funciones:\n",
        "\n",
        "* `arange(ini=0, fin, inc=1)`: Devuelve un ndarray iniciando en `ini` y terminando en `fin`, con incrementos de inc\n",
        "\n",
        "* `zeros(dim)`: Devuelve un ndarray de dimensión `dim` (si es un escalar se considera un vector, si es una tupla de números entonces son las dimensiones del ndarray), con todas sus entradas en cero.\n",
        "      \n",
        "* `ones(dim)`: Similar a `zeros()` pero con unos.\n",
        "    \n",
        "* `eye(x, y=none)`: si solo se tiene el argumento `x` devuelve una matriz identidad de $x \\times x$. Si se encuentra `y`, entonces una matriz diagonal rectangular de dimensión x por y.\n",
        "      \n",
        "* `zeros_like( x )`: Un ndarray de ceros de la misma dimensión que `x` (igual existe `ones_like`).\n",
        "    \n",
        "* `linspace(inicial, final, elementos)`: Devuelve un ndarray de una dimensión iniciando en inicial, hasta final de\n",
        "manera que existan elementos numeros igualmente espaciados. Muy útil para graficación principalmente.\n",
        "      \n",
        "* `random.rand(dim1, dim2, ...)`: Devuelve un ndarray de dimensiones `dim1` por `dim2` por ... con números aleatorios\n",
        "generados por una distribución uniforme entre 0 y 1.\n",
        "      \n",
        "Veamos unos cuantos ejemplos:"
      ]
    },
    {
      "cell_type": "code",
      "execution_count": null,
      "metadata": {
        "id": "z8EY2Jweu5b4"
      },
      "outputs": [],
      "source": [
        "vZ = np.zeros(5)\n",
        "print(f\"Un vector de ceros con 5 valores \\n {vZ}\")"
      ]
    },
    {
      "cell_type": "code",
      "execution_count": null,
      "metadata": {
        "id": "EDqYnU6Ru5b4"
      },
      "outputs": [],
      "source": [
        "mO = np.ones((3, 10))\n",
        "print(f\"Una matriz de 3 x 10 de puron unos, \\n {mO}\")"
      ]
    },
    {
      "cell_type": "code",
      "execution_count": null,
      "metadata": {
        "id": "P0il5wZ-u5b4"
      },
      "outputs": [],
      "source": [
        "va = np.arange(10)\n",
        "print(f\"va = \\n {va}\")"
      ]
    },
    {
      "cell_type": "code",
      "execution_count": null,
      "metadata": {
        "id": "oUcKESulu5b4"
      },
      "outputs": [],
      "source": [
        "vb = np.arange(20, -10, -5)\n",
        "print(f\"vb = \\n {vb}\")"
      ]
    },
    {
      "cell_type": "code",
      "execution_count": null,
      "metadata": {
        "id": "pk-m8sqmu5b4"
      },
      "outputs": [],
      "source": [
        "print(\"Y una matriz de ceros de las dimensiones de mO:\")\n",
        "print(np.zeros_like(mO))"
      ]
    },
    {
      "cell_type": "code",
      "execution_count": null,
      "metadata": {
        "id": "5QS-Scn_u5b4"
      },
      "outputs": [],
      "source": [
        "mA = np.random.rand(5, 12)\n",
        "print(\"Y una matriz con números aleatorios bajo una distribución uniforme entre 0 y 1\")\n",
        "print(mA)"
      ]
    },
    {
      "cell_type": "markdown",
      "metadata": {
        "id": "KRQXmUGnu5b5"
      },
      "source": [
        "### Primer problema a resolver :"
      ]
    },
    {
      "cell_type": "markdown",
      "metadata": {
        "id": "otgxjRxau5b5"
      },
      "source": [
        "En la siguiente celda (o puedes crear las que consideres convenientes) crea las siguientes matrices:\n",
        "\n",
        "* Una matriz de 4 por 6 con valores aleatorios de acuerdo a una distribución normal con media cero y varianza unitaria.\n",
        "    \n",
        "* Un vector de 10 elementos con valores aleatorios de números enteros entre 4 y 100\n",
        "    \n",
        "* Una matriz diagonal de 5 por 5 cuyos elementos de la diagonal sean (1, 2, 3, 4, 5)"
      ]
    },
    {
      "cell_type": "code",
      "execution_count": null,
      "metadata": {
        "id": "J9FQiXZ7u5b5"
      },
      "outputs": [],
      "source": [
        "# 1)\n",
        "a = [[random.randint(0, 9) for _ in range(4)] for _ in range(6)]\n",
        "\n",
        "# 2)\n",
        "b = [random.randint(4, 100) for _ in range(10)]\n",
        "\n",
        "# 3)\n",
        "c = np.diag([1, 2, 3, 4, 5])\n",
        "\n",
        "#Recuerda probar con el autocompletado de las celdas, así como la documentación en linea"
      ]
    },
    {
      "cell_type": "code",
      "source": [
        "# Imprimir 1.1.\n",
        "for fila in a:\n",
        "    print(fila)"
      ],
      "metadata": {
        "colab": {
          "base_uri": "https://localhost:8080/"
        },
        "id": "kL8jZUX0yWSM",
        "outputId": "3729eed7-ece4-4ed2-a6a2-63d830712d8f"
      },
      "execution_count": null,
      "outputs": [
        {
          "output_type": "stream",
          "name": "stdout",
          "text": [
            "[9, 4, 9, 3]\n",
            "[3, 9, 7, 9]\n",
            "[0, 2, 8, 8]\n",
            "[0, 8, 6, 6]\n",
            "[7, 0, 7, 4]\n",
            "[2, 9, 3, 9]\n"
          ]
        }
      ]
    },
    {
      "cell_type": "code",
      "source": [
        "print(b)"
      ],
      "metadata": {
        "colab": {
          "base_uri": "https://localhost:8080/"
        },
        "id": "ifaHJ_TTy7cH",
        "outputId": "03b73bb6-bea9-437b-b4c9-96e661cfa0d7"
      },
      "execution_count": null,
      "outputs": [
        {
          "output_type": "stream",
          "name": "stdout",
          "text": [
            "[12, 31, 35, 18, 26, 36, 12, 69, 78, 48]\n"
          ]
        }
      ]
    },
    {
      "cell_type": "code",
      "source": [
        "print(c)"
      ],
      "metadata": {
        "colab": {
          "base_uri": "https://localhost:8080/"
        },
        "id": "lDHCVtGBy8nF",
        "outputId": "73a1f38b-4d0d-4073-810d-600b893042b9"
      },
      "execution_count": null,
      "outputs": [
        {
          "output_type": "stream",
          "name": "stdout",
          "text": [
            "[[1 0 0 0 0]\n",
            " [0 2 0 0 0]\n",
            " [0 0 3 0 0]\n",
            " [0 0 0 4 0]\n",
            " [0 0 0 0 5]]\n"
          ]
        }
      ]
    },
    {
      "cell_type": "markdown",
      "metadata": {
        "id": "IGM4XASIu5b5"
      },
      "source": [
        "## Operaciones básicas de los ndarray"
      ]
    },
    {
      "cell_type": "markdown",
      "metadata": {
        "id": "NO4QjnQKu5b5"
      },
      "source": [
        "La mayoría de las operaciones que se pueden aplicar en los ndarray se encuenran en el espacio de nombres de np, y las cuales son bastante directas tal como:\n",
        "\n",
        "    b = np.sin(a)\n",
        "\n",
        "la cual devuelve en b un ndarray de las mismas dimensiones que a, cuyas entradas son el seno de las entradas de a (en radianes).\n",
        "Así, parece inecesario explicar las funciones cos, tan, tanh, acos, asin, etc..\n",
        "\n",
        "Otras funciones muy útiles no son tan directas. Veamos algunas:\n",
        "\n",
        "    c = a + b\n",
        "\n",
        "es la suma de dos ndarray, bastante obvio, lo que no lo es tanto es:\n",
        "\n",
        "    c = a * b\n",
        "\n",
        "la cual es un ndarray resultante de la *multiplicación punto a punto* de los elementos de a y b, asumiendo que ambos tienen\n",
        "las mismas diensiones. ¿Y para aplicar un producto matricial? Pues se utiliza el comando dot (o producto punto) el cual puede ser\n",
        "expresado de tres formas:\n",
        "\n",
        "    c = np.dot(a, b)\n",
        "    c = a.dot(b)\n",
        "    c = a @ b\n",
        "\n",
        "La suma de los elementos de un ndarray tambien es un método del objeto (como min, max, argmin, argmax, etc...) que tambien se pueden llamar de dos maneras diferentes (al menos):\n",
        "\n",
        "    b = a.sum()\n",
        "    b = np.sum(a)\n",
        "\n",
        "es la suma de *todos los elementos del array* mientras que\n",
        "\n",
        "    b = a.sum(axis=0)\n",
        "    b = np.sum(a, axis=0)\n",
        "\n",
        "es un ndarray con una dimensión menos que a, con la suma de las columnas. Veamos unos ejemplos:"
      ]
    },
    {
      "cell_type": "code",
      "execution_count": 3,
      "metadata": {
        "id": "MJ3VHXOeu5b5",
        "colab": {
          "base_uri": "https://localhost:8080/",
          "height": 540
        },
        "outputId": "42a42152-bf81-4eaa-db02-a822150eb772"
      },
      "outputs": [
        {
          "output_type": "stream",
          "name": "stdout",
          "text": [
            "a = [[1 2 3]\n",
            " [4 5 6]]\n",
            "b = [[0.93196622 0.1171058  0.39744099]\n",
            " [0.88339038 0.19280126 0.51238716]]\n",
            "Suma de todos los números de b = 3.0350918150394657\n",
            "Media de cada columna de a = [2.5 3.5 4.5]\n",
            "Transpuesta de a, forma larga \n",
            " a.transpose()\n",
            "Transpuesta de a, forma preferida \n",
            " a.T\n",
            "10 * b = [[9.31966218 1.17105795 3.97440994]\n",
            " [8.83390384 1.92801263 5.1238716 ]]\n",
            "a * b = [[0.93196622 0.23421159 1.19232298]\n",
            " [3.53356154 0.96400632 3.07432296]]\n",
            "2 elevado a la matriz a = [[ 2  4  8]\n",
            " [16 32 64]]\n",
            "a elevada al cuadrado (elemento a elemento)\n",
            "[[ 1  4  9]\n",
            " [16 25 36]]\n",
            "a.dot(b.T) = [[2.35850079 2.80615439]\n",
            " [6.69803982 7.57189081]]\n"
          ]
        },
        {
          "output_type": "error",
          "ename": "ValueError",
          "evalue": "shapes (2,3) and (2,3) not aligned: 3 (dim 1) != 2 (dim 0)",
          "traceback": [
            "\u001b[0;31m---------------------------------------------------------------------------\u001b[0m",
            "\u001b[0;31mValueError\u001b[0m                                Traceback (most recent call last)",
            "\u001b[0;32m<ipython-input-3-aad209df0cd1>\u001b[0m in \u001b[0;36m<cell line: 0>\u001b[0;34m()\u001b[0m\n\u001b[1;32m     18\u001b[0m \u001b[0;34m\u001b[0m\u001b[0m\n\u001b[1;32m     19\u001b[0m \u001b[0mprint\u001b[0m\u001b[0;34m(\u001b[0m\u001b[0;34mf\"a.dot(b.T) = {a.dot(b.T)}\"\u001b[0m\u001b[0;34m)\u001b[0m\u001b[0;34m\u001b[0m\u001b[0;34m\u001b[0m\u001b[0m\n\u001b[0;32m---> 20\u001b[0;31m \u001b[0mprint\u001b[0m\u001b[0;34m(\u001b[0m\u001b[0;34mf\"a.dot(b) debería dar error {a.dot(b)}\"\u001b[0m\u001b[0;34m)\u001b[0m\u001b[0;34m\u001b[0m\u001b[0;34m\u001b[0m\u001b[0m\n\u001b[0m",
            "\u001b[0;31mValueError\u001b[0m: shapes (2,3) and (2,3) not aligned: 3 (dim 1) != 2 (dim 0)"
          ]
        }
      ],
      "source": [
        "# Vamos a generar varios ndarrays\n",
        "a = np.array([[1, 2, 3], [4, 5, 6]])\n",
        "b = np.random.rand(2, 3)\n",
        "\n",
        "print(f\"a = {a}\")\n",
        "print(f\"b = {b}\")\n",
        "print(f\"Suma de todos los números de b = {b.sum()}\")\n",
        "print(f\"Media de cada columna de a = {a.mean(axis=0)}\")\n",
        "print(f\"Transpuesta de a, forma larga \\n a.transpose()\")\n",
        "print(f\"Transpuesta de a, forma preferida \\n a.T\")\n",
        "\n",
        "print(f\"10 * b = {10 * b}\")\n",
        "print(f\"a * b = {a * b}\")\n",
        "\n",
        "print(f\"2 elevado a la matriz a = {np.power(2, a)}\")\n",
        "print(f\"a elevada al cuadrado (elemento a elemento)\")\n",
        "print(np.power(a, 2))\n",
        "\n",
        "print(f\"a.dot(b.T) = {a.dot(b.T)}\")\n",
        "print(f\"a.dot(b) debería dar error {a.dot(b)}\")"
      ]
    },
    {
      "cell_type": "markdown",
      "metadata": {
        "id": "SbdAjabQu5b5"
      },
      "source": [
        "Como vemos tenemos aqui una bateria completa de funciones, las cuales se aplican en un ndarray. ¿Pero que información tengo de un ndarray? ¿Como puedo componer un ndarray a partir de otros?  Asumamos por ejemplo un ndarray de una dimensión:"
      ]
    },
    {
      "cell_type": "code",
      "execution_count": null,
      "metadata": {
        "id": "x-7IEAExu5b5"
      },
      "outputs": [],
      "source": [
        "#Generamos el ndarray\n",
        "a = np.arange(100)\n",
        "\n",
        "# Checamos algunas propiedades\n",
        "print(f\"El número de dimensiones de a es: {a.ndim}\")\n",
        "print(f\"Y su forma es {a.shape}\")\n",
        "print(f\"Y tiene {a.size} elementos\")\n",
        "\n",
        "#Generamos algunos ndarrays a partir de a\n",
        "b, c = a[:20], a[20:]\n",
        "d, e = a[-1:-10:-1], a[10:11]\n",
        "f = a[::-1]\n",
        "g = a[a % 5 == 0]\n",
        "h = f[[1, 15, 60]]\n",
        "\n",
        "# Ahora trata de inferir que es lo que debe contener cada array b, c, d, e, f, g, h sin hacer ninguna prueba.\n",
        "\n",
        "# Agrega ahora los print que consideres necesarios para verificar que valores tiene b, c, d, e, f, g, h"
      ]
    },
    {
      "cell_type": "markdown",
      "metadata": {
        "id": "oQZ6xaVWu5b5"
      },
      "source": [
        "A partir de una matriz (un ndarray de dos dimensiones) se pueden ejemplificar otras cosas, por ejemplo:"
      ]
    },
    {
      "cell_type": "code",
      "execution_count": null,
      "metadata": {
        "id": "-PdL3POsu5b5"
      },
      "outputs": [],
      "source": [
        "#Generamos un arreglo con 100 valores equiespaciados del seno desde 0 a 2$\\pi$\n",
        "a = np.sin(np.linspace(0, 2 * np.pi, 100))\n",
        "\n",
        "#Lo convertimos en una matriz de 10 por *lo que sea*, donde *lo que sea* es 10 en este caso,\n",
        "b = a.reshape((10, -1))\n",
        "print(\"b queda como: \",b)\n",
        "print(f\"donde b tiene {b.ndim} dimensiones, con una forma {b.shape} y con {b.size} elementos.\")"
      ]
    },
    {
      "cell_type": "code",
      "execution_count": null,
      "metadata": {
        "id": "IVaTCHZIu5b6"
      },
      "outputs": [],
      "source": [
        "#Si queremos convertir un ndarray a un array de una sola dimension (desenrrollar la matriz podría ser el término)\n",
        "c = b.ravel()\n",
        "\n",
        "print(\"La diferencia de a y c sería\")\n",
        "print((a - c).sum())"
      ]
    },
    {
      "cell_type": "code",
      "execution_count": null,
      "metadata": {
        "id": "e9YICw3hu5b6"
      },
      "outputs": [],
      "source": [
        "# Si queremos hacer que un vector se comporte como un vector renglon\n",
        "a = np.arange(30).reshape(1,-1)\n",
        "print(f\"a es de forma {a.shape}\")\n",
        "\n",
        "# Y si queremos que sea un vector columna hacemos esto\n",
        "b = np.linspace(30, 35, 30).reshape(-1,1)\n",
        "print(f\"b es de forma {b.shape}\")\n",
        "\n",
        "# Y para hacer una concatenacion de columnas entonces utilizamps la forma especial np.c[]\n",
        "c = np.c_[a.T, b]\n",
        "print(f\"c es de forma {c.shape}\")\n",
        "\n",
        "#Y una concatenación de renglones es por lo tanto\n",
        "d = np.r_[a, b.T]\n",
        "print(f\"d es de forma {d.shape}\")"
      ]
    },
    {
      "cell_type": "markdown",
      "metadata": {
        "id": "BA7it7lUu5b6"
      },
      "source": [
        "### Segundo problema a resolver"
      ]
    },
    {
      "cell_type": "markdown",
      "metadata": {
        "id": "trZHdjDhu5b6"
      },
      "source": [
        "Realiza lo siguiente:\n",
        "\n",
        "* Genera una matriz de 100 por 5 de forma que en cada columna tengamos lo siguiente:\n",
        "    \n",
        "    - En la primer columna los valores entre -1 y 1, equiespaciados\n",
        "    - En la segunda columna el valor de seno para los valores de la primer columna\n",
        "    - En la tercer columna el valor de la función logística de los valores de la primer columna, la cual es $g(x) = \\frac{1}{1 + \\exp(-x)}$\n",
        "    - En la cuarta columna 1 si el valor de la segunda columna es mayor que cero y -1 en otro caso (revisa la función np.where)\n",
        "    - En la quinta columna valores aleatorios de acuerdo a una distribución gaussiana con media 1 y varianza 0.5\n",
        "        \n",
        "* Encuentra un arreglo con todos los valores de la función logística, cuando el valor absoluto del seno de x es menor a 0.5\n",
        "    \n",
        "* Convierte este arraglo en una matriz con 5 columnas y los renglones que sean necesarios.\n",
        "        "
      ]
    },
    {
      "cell_type": "code",
      "execution_count": 6,
      "metadata": {
        "collapsed": true,
        "id": "0wtyrw6_u5b6",
        "colab": {
          "base_uri": "https://localhost:8080/"
        },
        "outputId": "bf8666a8-48da-426c-c832-239ad193e7b4"
      },
      "outputs": [
        {
          "output_type": "stream",
          "name": "stdout",
          "text": [
            "[[-1.         -0.84147098  0.26894142 -1.          1.43398386]\n",
            " [-0.97979798 -0.83038482  0.27293187 -1.          1.10960074]\n",
            " [-0.95959596 -0.81895978  0.2769591  -1.          1.29053607]\n",
            " [-0.93939394 -0.8072005   0.28102278 -1.          0.26511749]\n",
            " [-0.91919192 -0.79511181  0.28512257 -1.          1.11054861]\n",
            " [-0.8989899  -0.78269862  0.28925812 -1.          1.49345114]\n",
            " [-0.87878788 -0.76996601  0.29342902 -1.          0.84931953]\n",
            " [-0.85858586 -0.75691917  0.29763488 -1.          1.84263605]\n",
            " [-0.83838384 -0.74356342  0.30187528 -1.          1.31253272]\n",
            " [-0.81818182 -0.72990422  0.30614975 -1.          0.75413909]\n",
            " [-0.7979798  -0.71594714  0.31045783 -1.          1.1459327 ]\n",
            " [-0.77777778 -0.70169788  0.31479902 -1.          0.78420003]\n",
            " [-0.75757576 -0.68716224  0.31917283 -1.          0.80757214]\n",
            " [-0.73737374 -0.67234618  0.3235787  -1.          0.10171269]\n",
            " [-0.71717172 -0.65725572  0.32801609 -1.          1.17623359]\n",
            " [-0.6969697  -0.64189703  0.33248443 -1.          0.76908438]\n",
            " [-0.67676768 -0.62627638  0.33698311 -1.          1.20194548]\n",
            " [-0.65656566 -0.61040014  0.34151151 -1.          0.25947908]\n",
            " [-0.63636364 -0.59427479  0.34606901 -1.          0.50712943]\n",
            " [-0.61616162 -0.57790691  0.35065493 -1.          0.30805473]\n",
            " [-0.5959596  -0.56130318  0.35526862 -1.          0.81230898]\n",
            " [-0.57575758 -0.54447039  0.35990936 -1.          1.04842511]\n",
            " [-0.55555556 -0.52741539  0.36457644 -1.          0.74708946]\n",
            " [-0.53535354 -0.51014514  0.36926913 -1.          1.02087335]\n",
            " [-0.51515152 -0.49266671  0.37398667 -1.          2.15475149]\n",
            " [-0.49494949 -0.47498721  0.37872829 -1.          1.17154162]\n",
            " [-0.47474747 -0.45711386  0.3834932  -1.          0.33183269]\n",
            " [-0.45454545 -0.43905397  0.38828059 -1.         -0.01596213]\n",
            " [-0.43434343 -0.42081489  0.39308964 -1.          0.87240761]\n",
            " [-0.41414141 -0.40240408  0.3979195  -1.          1.97370339]\n",
            " [-0.39393939 -0.38382904  0.40276933 -1.          1.24946442]\n",
            " [-0.37373737 -0.36509735  0.40763825 -1.          0.74409668]\n",
            " [-0.35353535 -0.34621667  0.41252537 -1.          1.66999128]\n",
            " [-0.33333333 -0.3271947   0.41742979 -1.          0.90228471]\n",
            " [-0.31313131 -0.30803919  0.42235061 -1.          0.19138288]\n",
            " [-0.29292929 -0.28875797  0.42728688 -1.          0.85085066]\n",
            " [-0.27272727 -0.26935891  0.43223768 -1.          0.74277387]\n",
            " [-0.25252525 -0.24984992  0.43720205 -1.          1.13881973]\n",
            " [-0.23232323 -0.23023896  0.44217903 -1.          0.80138811]\n",
            " [-0.21212121 -0.21053404  0.44716765 -1.          0.11903096]\n",
            " [-0.19191919 -0.1907432   0.45216693 -1.          0.94451537]\n",
            " [-0.17171717 -0.17087452  0.45717588 -1.          0.69423592]\n",
            " [-0.15151515 -0.1509361   0.46219351 -1.          0.94773079]\n",
            " [-0.13131313 -0.13093608  0.46721881 -1.          1.11747884]\n",
            " [-0.11111111 -0.11088263  0.47225076 -1.          0.29288317]\n",
            " [-0.09090909 -0.09078392  0.47728837 -1.          1.49883674]\n",
            " [-0.07070707 -0.07064817  0.48233059 -1.          0.19394107]\n",
            " [-0.05050505 -0.05048358  0.48737642 -1.          0.7914607 ]\n",
            " [-0.03030303 -0.03029839  0.49242482 -1.          0.43661812]\n",
            " [-0.01010101 -0.01010084  0.49747477 -1.          2.2237551 ]\n",
            " [ 0.01010101  0.01010084  0.50252523  1.          1.73091518]\n",
            " [ 0.03030303  0.03029839  0.50757518  1.          1.61137349]\n",
            " [ 0.05050505  0.05048358  0.51262358  1.          0.61341465]\n",
            " [ 0.07070707  0.07064817  0.51766941  1.          1.02521058]\n",
            " [ 0.09090909  0.09078392  0.52271163  1.          0.64492015]\n",
            " [ 0.11111111  0.11088263  0.52774924  1.          1.30349375]\n",
            " [ 0.13131313  0.13093608  0.53278119  1.          0.54277661]\n",
            " [ 0.15151515  0.1509361   0.53780649  1.          0.8537923 ]\n",
            " [ 0.17171717  0.17087452  0.54282412  1.          0.67532121]\n",
            " [ 0.19191919  0.1907432   0.54783307  1.          0.68436616]\n",
            " [ 0.21212121  0.21053404  0.55283235  1.          1.56459827]\n",
            " [ 0.23232323  0.23023896  0.55782097  1.          0.65389627]\n",
            " [ 0.25252525  0.24984992  0.56279795  1.          0.45743574]\n",
            " [ 0.27272727  0.26935891  0.56776232  1.          1.03401091]\n",
            " [ 0.29292929  0.28875797  0.57271312  1.          0.97326399]\n",
            " [ 0.31313131  0.30803919  0.57764939  1.          0.97843109]\n",
            " [ 0.33333333  0.3271947   0.58257021  1.          0.82824127]\n",
            " [ 0.35353535  0.34621667  0.58747463  1.          0.30752805]\n",
            " [ 0.37373737  0.36509735  0.59236175  1.          0.49227885]\n",
            " [ 0.39393939  0.38382904  0.59723067  1.          1.86753419]\n",
            " [ 0.41414141  0.40240408  0.6020805   1.          0.80221374]\n",
            " [ 0.43434343  0.42081489  0.60691036  1.          1.21221858]\n",
            " [ 0.45454545  0.43905397  0.61171941  1.          0.39361959]\n",
            " [ 0.47474747  0.45711386  0.6165068   1.          0.97676689]\n",
            " [ 0.49494949  0.47498721  0.62127171  1.          0.94180217]\n",
            " [ 0.51515152  0.49266671  0.62601333  1.          0.84362348]\n",
            " [ 0.53535354  0.51014514  0.63073087  1.          0.44020363]\n",
            " [ 0.55555556  0.52741539  0.63542356  1.          0.74662225]\n",
            " [ 0.57575758  0.54447039  0.64009064  1.          0.27139223]\n",
            " [ 0.5959596   0.56130318  0.64473138  1.          0.73111793]\n",
            " [ 0.61616162  0.57790691  0.64934507  1.          1.03235483]\n",
            " [ 0.63636364  0.59427479  0.65393099  1.          0.69062595]\n",
            " [ 0.65656566  0.61040014  0.65848849  1.          0.77590386]\n",
            " [ 0.67676768  0.62627638  0.66301689  1.          1.27010214]\n",
            " [ 0.6969697   0.64189703  0.66751557  1.          0.64801934]\n",
            " [ 0.71717172  0.65725572  0.67198391  1.          0.6423979 ]\n",
            " [ 0.73737374  0.67234618  0.6764213   1.          0.12577142]\n",
            " [ 0.75757576  0.68716224  0.68082717  1.          0.87598947]\n",
            " [ 0.77777778  0.70169788  0.68520098  1.          1.08575358]\n",
            " [ 0.7979798   0.71594714  0.68954217  1.          1.29447094]\n",
            " [ 0.81818182  0.72990422  0.69385025  1.          1.05514667]\n",
            " [ 0.83838384  0.74356342  0.69812472  1.          1.27240609]\n",
            " [ 0.85858586  0.75691917  0.70236512  1.          0.84458684]\n",
            " [ 0.87878788  0.76996601  0.70657098  1.          0.42258599]\n",
            " [ 0.8989899   0.78269862  0.71074188  1.          0.53518801]\n",
            " [ 0.91919192  0.79511181  0.71487743  1.          1.50128719]\n",
            " [ 0.93939394  0.8072005   0.71897722  1.          0.71522486]\n",
            " [ 0.95959596  0.81895978  0.7230409   1.          0.06112117]\n",
            " [ 0.97979798  0.83038482  0.72706813  1.          1.17003692]\n",
            " [ 1.          0.84147098  0.73105858  1.          1.11783232]]\n"
          ]
        }
      ],
      "source": [
        "# 1)\n",
        "a1 = np.linspace(-1, 1, 100)\n",
        "b1 = np.sin(a1)\n",
        "c1 = 1 / (1 + np.exp(-a1))\n",
        "d1 = np.where(b1 > 0, 1, -1)\n",
        "e1 = np.random.normal(1, 0.5, 100)\n",
        "\n",
        "a = np.c_[a1, b1, c1, d1, e1]\n",
        "\n",
        "# 2)\n",
        "a2 = a[np.abs(a[:, 1]) < 0.5, 2]\n",
        "b2 = a2.reshape(-1, 5)\n",
        "\n",
        "print(a)"
      ]
    },
    {
      "cell_type": "markdown",
      "metadata": {
        "id": "qCOGN-tbu5b6"
      },
      "source": [
        "Además de estas funciones, numpy cuenta con funciones del algebra lineal altamente optimizadas (aunque no paralelizadas), las cuales son (entre otras):\n",
        "\n",
        "* `np.linalg.inv(a)`: Inversa de a\n",
        "* `np.linalg.pinv(a)`: Pseudoinversa de Ross-Penrose de a (muy útil para nosotros)\n",
        "* `np.linalg.det(a)`: determinante de a\n",
        "* `np.linalg.eig(a)`: eigenvalores y eigenvectores de a\n",
        "* `np.linalg.svd(a)`: Valores singulares de a"
      ]
    },
    {
      "cell_type": "markdown",
      "metadata": {
        "id": "_rDUW5Ntu5b6"
      },
      "source": [
        "## Haciendo gráficas sencillas con Matplotlib"
      ]
    },
    {
      "cell_type": "markdown",
      "metadata": {
        "id": "XHUSpDLVu5b6"
      },
      "source": [
        "La mejor manera de mostrar como funcionan las facilidades que ofrece matplotlib, es mostrando directamente su uso más sencillo,\n",
        "así que veamos un ejemplo muy simple. Es importante recordar que en la primer celda de esta libreta se definió la manera de realizar las gráficas (dentro del documento y no como figuras aparte), así como se cargo matplotlib en el espacio de nombres plt."
      ]
    },
    {
      "cell_type": "code",
      "execution_count": null,
      "metadata": {
        "id": "-FRVcDOou5b6"
      },
      "outputs": [],
      "source": [
        "# Vamos a hacerlo pasito a pasito\n",
        "\n",
        "# Primero obtenemos un vector x\n",
        "x = np.linspace(-np.pi, np.pi, 1000)\n",
        "\n",
        "# Luego obtenemos un vector y bastante trivial\n",
        "y = np.sin(x)\n",
        "\n",
        "# Y ahora hacemos una gráfica bastante básica de x y y\n",
        "plt.plot(x, y)\n",
        "plt.xlabel(\"el eje de las x's\")\n",
        "plt.ylabel(\"el eje de las y's\")\n",
        "plt.title(\"Este es un plot bastante trivial y sin mucho chiste\")\n",
        "\n",
        "# Bueno como la gráfica no esta muy bien a lo mejor se ve mejor si modificamos los limites de los ejes\n",
        "plt.axis([-3.1416, 3.1416, -1.1, 1.1])"
      ]
    },
    {
      "cell_type": "markdown",
      "metadata": {
        "id": "gXUCitP1u5b-"
      },
      "source": [
        "Aunque a veces queremos hacer unas gráficas más bien indicativas por lo que un estilo más informal podría ser útil:\n"
      ]
    },
    {
      "cell_type": "code",
      "execution_count": null,
      "metadata": {
        "id": "X0vpHx3fu5b-"
      },
      "outputs": [],
      "source": [
        "with plt.xkcd():\n",
        "    plt.plot(x, y)\n",
        "    plt.xlabel(\"el eje de las x's\")\n",
        "    plt.ylabel(\"el eje de las y's\")\n",
        "    plt.title(\"Este es un plot bastante trivial y sin mucho chiste\")\n",
        "    plt.axis([-3.1416, 3.1416, -1.1, 1.1])"
      ]
    },
    {
      "cell_type": "markdown",
      "metadata": {
        "id": "ewoiaTI3u5b-"
      },
      "source": [
        "Hay que tener mucho cuidado, ya que si no se utiliza plt.xkcd() dentro de un with, entonces va a modificar todas las graficas que se realicen en la libreta (a veces es deseable, pero es una mejor práctica de programación hacerlo así)."
      ]
    },
    {
      "cell_type": "code",
      "execution_count": null,
      "metadata": {
        "id": "G4O6TYvCu5b-"
      },
      "outputs": [],
      "source": [
        "with plt.style.context(('ggplot')):\n",
        "    plt.plot(x, y)\n",
        "    plt.xlabel(\"el eje de las x's\")\n",
        "    plt.ylabel(\"el eje de las y's\")\n",
        "    plt.title(\"Este es un plot bastante trivial y sin mucho chiste\")\n",
        "    plt.axis([-3.1416, 3.1416, -1.1, 1.1])"
      ]
    },
    {
      "cell_type": "markdown",
      "metadata": {
        "id": "HaKh6D1iu5b-"
      },
      "source": [
        "Ahora hagamos una gráfica con varios valores diferentes"
      ]
    },
    {
      "cell_type": "code",
      "execution_count": null,
      "metadata": {
        "id": "hAgayTJAu5b_"
      },
      "outputs": [],
      "source": [
        "plt.plot(x, np.sin(x), label='seno')\n",
        "\n",
        "plt.plot(x, 1/(1 + np.exp(-x)), label=u\"logística\")\n",
        "\n",
        "plt.plot(x, (0.2 * x * x) - 0.5, label=r'$0.2 x^2 - 0.5$')\n",
        "\n",
        "plt.axis([-3.1416, 3.1416, -1.1, 1.4])\n",
        "\n",
        "plt.title(\"Tres funciones piteras juntas\")\n",
        "plt.xlabel(r\"$\\theta$ (rad)\")\n",
        "plt.ylabel(\"magnitud\")\n",
        "\n",
        "plt.legend(loc=0)"
      ]
    },
    {
      "cell_type": "markdown",
      "metadata": {
        "id": "Mofwie-Vu5b_"
      },
      "source": [
        "Hay muchos tipos de funciones, lo mejor para saber como ustilizar matplotlib es ver la galeria de ejemplo que se encuentran en la ayuda,\n",
        "y pueden consultarse en http://matplotlib.org/gallery.html (al darle click a una imagen se puede ver el código que la genera).\n",
        "\n",
        "Por ejemplo si queremos una gráfica tipo pay:"
      ]
    },
    {
      "cell_type": "code",
      "execution_count": null,
      "metadata": {
        "id": "St1CYZeiu5b_"
      },
      "outputs": [],
      "source": [
        "labels = 'Tortas', 'Taquitos', 'Burros', 'Ensaladas'\n",
        "porcentajes = [15, 30, 45, 10]\n",
        "colores = ['yellowgreen', 'gold', 'lightskyblue', 'lightcoral']\n",
        "separa = (0, 0.1, 0, 0) # solo separa la segunda rebanada (i.e. 'Taquitos')\n",
        "\n",
        "plt.pie(\n",
        "    porcentajes, explode=separa, labels=labels, colors=colores,\n",
        "    autopct='%1.1f%%', shadow=True, startangle=90\n",
        ")\n",
        "plt.axis('equal') #Para que el pay se vea como un círculo\n",
        "plt.xlabel(u'Lo que como cuando me quedo en la UNISON a mediodía')\n"
      ]
    },
    {
      "cell_type": "markdown",
      "metadata": {
        "id": "t_k2UHcru5b_"
      },
      "source": [
        "O si queremos una gráfica tipo contorno con todo y datos"
      ]
    },
    {
      "cell_type": "code",
      "execution_count": null,
      "metadata": {
        "id": "xBwScPMau5b_"
      },
      "outputs": [],
      "source": [
        "import matplotlib.cm as cm\n",
        "\n",
        "delta = 0.025\n",
        "x = np.arange(-3.0, 3.0, delta)\n",
        "y = np.arange(-2.0, 2.0, delta)\n",
        "X, Y = np.meshgrid(x, y)\n",
        "Z1 = np.exp(-X**2 - Y**2)\n",
        "Z2 = np.exp(-(X - 1)**2 - (Y - 1)**2)\n",
        "Z = (Z1 - Z2) * 2\n",
        "\n",
        "CS = plt.contour(X, Y, Z)\n",
        "plt.clabel(CS, fontsize=10)\n",
        "plt.title('Grafica simple de contorno')\n",
        "plt.show()"
      ]
    },
    {
      "cell_type": "markdown",
      "metadata": {
        "id": "jBmUVXlMu5b_"
      },
      "source": [
        "Por último, un detalle muy importante y que puede ser de mucha utilidad: La generación de subplots. Una figura puede contener varias subgraficas, para esto hay que especificar en cuantas gráficas vamos a dividir la figura en forma de renglones y columnas, y luego seleccionar la subgráfica en la que vamos a graficar. Por ejemplo\n",
        "\n",
        "    plt.subplot(2,2,1)\n",
        "    \n",
        "significa que la figura la vamos a dividir en 2 renglones y dos columnas (cuatro subgráficas) y vamos a escribir sobre la subgráfica 1. Lo mejor es ilustrarlo con un ejemplo muy simple."
      ]
    },
    {
      "cell_type": "code",
      "execution_count": null,
      "metadata": {
        "id": "v2Jgaramu5b_"
      },
      "outputs": [],
      "source": [
        "x = np.linspace(0, 5, 1000)\n",
        "y1 = np.exp(-0.2 * x) * np.cos(2 * np.pi * x)\n",
        "y2 = np.cos(2 * np.pi * x)\n",
        "y3 = np.exp(0.2 * x) * np.cos(2 * np.pi * x)\n",
        "y4 = np.exp(-0.1 * x)\n",
        "\n",
        "plt.subplot(2, 2, 1)\n",
        "plt.plot(x, y1)\n",
        "plt.title('Estable subamortiguado')\n",
        "\n",
        "plt.subplot(2, 2, 2)\n",
        "plt.plot(x, y2)\n",
        "plt.title('Criticamente estable')\n",
        "\n",
        "plt.subplot(2, 2, 3)\n",
        "plt.plot(x, y3)\n",
        "plt.title('inestable')\n",
        "\n",
        "plt.subplot(2, 2, 4)\n",
        "plt.plot(x, y4)\n",
        "plt.title('Estable sobreamortiguado')\n",
        "\n"
      ]
    },
    {
      "cell_type": "markdown",
      "metadata": {
        "id": "1QpAfCNYu5cA"
      },
      "source": [
        "### Ultimo trabajo"
      ]
    },
    {
      "cell_type": "markdown",
      "metadata": {
        "id": "jqmfl5qyu5cA"
      },
      "source": [
        "Realiza lo siguiente en varias celdas abajo de esta:\n",
        "\n",
        "* Genera un vector de 1000 datos aleatorios distribuidos de acuerdo a una gaussiana con media 3 y varianza .5, y otro vector con 1000 datos aleatorios distribuidos con una media 0 y una varianza unitaria. Al concatenar los dos vectores, estás generando una serie de datos proveniente de una distribución conocida como suma de gaussianas. Para ver como es esta distribución de datos, grafíca un histograma (con un número suficiente de bins).\n",
        "\n",
        "* Genera un vector de datos de entrada `x = np.linspace(0, 1, 1000)` y grafica $\\sin(2\\pi x)$, $\\sin(4\\pi x)$, $\\sin(8\\pi x)$. ¿Que conlusión puedes sacar al respecto? Realiza la gráfica con titulo, ejes, etiquetas y todo lo necesario para que sea publicable.\n",
        "\n",
        "* Grafíca la función $e^{-t}\\cos(2\\pi t)$ para $t \\in [0, 5]$. Asegurate que la gráfica sea una linea punteada de color rojo, que la gráfica tenga título, etiqueta en el eje de $t$ (tiempo), etiqueta en el eje de $y$ (voltaje en $\\mu$V), y una nota donde se escriba la ecuación simulada.\n",
        "\n",
        "* Copia el ejemplo de la galería de matplotlib http://matplotlib.org/examples/pylab_examples/shading_example.html y modificalo para que se grafique dentro de la libreta. Una vez funcionando, comenta *cada linea de código* dejando bien claro **en español y con tus palabras** que es lo que hace cada una de las lineas."
      ]
    },
    {
      "cell_type": "code",
      "execution_count": null,
      "metadata": {
        "id": "lDFwWorLu5cA"
      },
      "outputs": [],
      "source": [
        "#Agrega aqui el primer problema y resualve cada problema en una celda independiente."
      ]
    }
  ],
  "metadata": {
    "kernelspec": {
      "display_name": "pandas",
      "language": "python",
      "name": "python3"
    },
    "language_info": {
      "codemirror_mode": {
        "name": "ipython",
        "version": 3
      },
      "file_extension": ".py",
      "mimetype": "text/x-python",
      "name": "python",
      "nbconvert_exporter": "python",
      "pygments_lexer": "ipython3",
      "version": "3.12.5"
    },
    "colab": {
      "provenance": [],
      "include_colab_link": true
    }
  },
  "nbformat": 4,
  "nbformat_minor": 0
}